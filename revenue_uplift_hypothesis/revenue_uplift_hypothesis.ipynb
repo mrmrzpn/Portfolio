{
 "cells": [
  {
   "cell_type": "markdown",
   "metadata": {},
   "source": [
    "# Тестирование гипотезы по увеличению выручки интернет-магазина"
   ]
  },
  {
   "cell_type": "markdown",
   "metadata": {},
   "source": [
    "<div style=\"border: solid seagreen 1px; padding: 10px\">\n",
    "\n",
    "Отдел маркетинга интернет-магазина подготовил список гипотез для увеличения выручки.\n",
    "    \n",
    "**Наша задача** — приоритизировать гипотезы, выбрать наиболее перспективную, оценить успешность А/В теста, запущенного по выбранной гипотезе и принять решение об остановке или продолжении тестирования. \n",
    "\n",
    "**Источники информации**: список гипотез с оценками по методу RICE (reach, impact, confidence, effort), данные по выручке в разрезе транзакций (с указанием id пользователя и группы теста) и ежедневные данные по числу новых уникальных пользователей в разрезе групп теста.\n",
    "    \n",
    "В рамках поставленных задач будут выполнены следующие шаги:\n",
    "- [приоритизация гипотез](#hypothesis_ranking),\n",
    "- [обзор данных по тесту](#overview),\n",
    "- [предобработка данных](#data_processing),\n",
    "- [исследовательский анализ данных](#EDA),\n",
    "- [оценка результатов A/B тестирования](#AB_test),\n",
    "- [выводы](#summary)."
   ]
  },
  {
   "cell_type": "code",
   "execution_count": 1,
   "metadata": {},
   "outputs": [],
   "source": [
    "# импортируем библиотеки\n",
    "import pandas as pd\n",
    "import scipy.stats as st\n",
    "import numpy as np\n",
    "import datetime as dt\n",
    "\n",
    "# импортируем библиотеки для построения графиков\n",
    "import matplotlib.pyplot as plt\n",
    "\n",
    "# настраиваем отображение колонок датафрейма при выводе данных\n",
    "pd.options.display.max_columns = None\n",
    "pd.options.display.max_colwidth = 100"
   ]
  },
  {
   "cell_type": "markdown",
   "metadata": {},
   "source": [
    "<a id='hypothesis_ranking'></a>\n",
    "## Приоритизация гипотез"
   ]
  },
  {
   "cell_type": "markdown",
   "metadata": {},
   "source": [
    "### Обзор данных"
   ]
  },
  {
   "cell_type": "code",
   "execution_count": 2,
   "metadata": {},
   "outputs": [],
   "source": [
    "# загружаем данные\n",
    "\n",
    "try:\n",
    "    data = pd.read_csv('/datasets/hypothesis.csv')\n",
    "except:\n",
    "    data = pd.read_csv(\n",
    "    '/Users/mrmrzpn/Desktop/Yandex Praktikum/2. Проекты/6. Принятие решений в бизнесе/hypothesis.csv')"
   ]
  },
  {
   "cell_type": "code",
   "execution_count": 3,
   "metadata": {},
   "outputs": [
    {
     "name": "stdout",
     "output_type": "stream",
     "text": [
      "<class 'pandas.core.frame.DataFrame'>\n",
      "RangeIndex: 9 entries, 0 to 8\n",
      "Data columns (total 5 columns):\n",
      " #   Column      Non-Null Count  Dtype \n",
      "---  ------      --------------  ----- \n",
      " 0   Hypothesis  9 non-null      object\n",
      " 1   Reach       9 non-null      int64 \n",
      " 2   Impact      9 non-null      int64 \n",
      " 3   Confidence  9 non-null      int64 \n",
      " 4   Efforts     9 non-null      int64 \n",
      "dtypes: int64(4), object(1)\n",
      "memory usage: 488.0+ bytes\n"
     ]
    },
    {
     "data": {
      "text/html": [
       "<div>\n",
       "<style scoped>\n",
       "    .dataframe tbody tr th:only-of-type {\n",
       "        vertical-align: middle;\n",
       "    }\n",
       "\n",
       "    .dataframe tbody tr th {\n",
       "        vertical-align: top;\n",
       "    }\n",
       "\n",
       "    .dataframe thead th {\n",
       "        text-align: right;\n",
       "    }\n",
       "</style>\n",
       "<table border=\"1\" class=\"dataframe\">\n",
       "  <thead>\n",
       "    <tr style=\"text-align: right;\">\n",
       "      <th></th>\n",
       "      <th>Hypothesis</th>\n",
       "      <th>Reach</th>\n",
       "      <th>Impact</th>\n",
       "      <th>Confidence</th>\n",
       "      <th>Efforts</th>\n",
       "    </tr>\n",
       "  </thead>\n",
       "  <tbody>\n",
       "    <tr>\n",
       "      <th>0</th>\n",
       "      <td>Добавить два новых канала привлечения трафика, что позволит привлекать на 30% больше пользователей</td>\n",
       "      <td>3</td>\n",
       "      <td>10</td>\n",
       "      <td>8</td>\n",
       "      <td>6</td>\n",
       "    </tr>\n",
       "    <tr>\n",
       "      <th>1</th>\n",
       "      <td>Запустить собственную службу доставки, что сократит срок доставки заказов</td>\n",
       "      <td>2</td>\n",
       "      <td>5</td>\n",
       "      <td>4</td>\n",
       "      <td>10</td>\n",
       "    </tr>\n",
       "    <tr>\n",
       "      <th>2</th>\n",
       "      <td>Добавить блоки рекомендаций товаров на сайт интернет магазина, чтобы повысить конверсию и средни...</td>\n",
       "      <td>8</td>\n",
       "      <td>3</td>\n",
       "      <td>7</td>\n",
       "      <td>3</td>\n",
       "    </tr>\n",
       "    <tr>\n",
       "      <th>3</th>\n",
       "      <td>Изменить структура категорий, что увеличит конверсию, т.к. пользователи быстрее найдут нужный товар</td>\n",
       "      <td>8</td>\n",
       "      <td>3</td>\n",
       "      <td>3</td>\n",
       "      <td>8</td>\n",
       "    </tr>\n",
       "    <tr>\n",
       "      <th>4</th>\n",
       "      <td>Изменить цвет фона главной страницы, чтобы увеличить вовлеченность пользователей</td>\n",
       "      <td>3</td>\n",
       "      <td>1</td>\n",
       "      <td>1</td>\n",
       "      <td>1</td>\n",
       "    </tr>\n",
       "    <tr>\n",
       "      <th>5</th>\n",
       "      <td>Добавить страницу отзывов клиентов о магазине, что позволит увеличить количество заказов</td>\n",
       "      <td>3</td>\n",
       "      <td>2</td>\n",
       "      <td>2</td>\n",
       "      <td>3</td>\n",
       "    </tr>\n",
       "    <tr>\n",
       "      <th>6</th>\n",
       "      <td>Показать на главной странице баннеры с актуальными акциями и распродажами, чтобы увеличить конве...</td>\n",
       "      <td>5</td>\n",
       "      <td>3</td>\n",
       "      <td>8</td>\n",
       "      <td>3</td>\n",
       "    </tr>\n",
       "    <tr>\n",
       "      <th>7</th>\n",
       "      <td>Добавить форму подписки на все основные страницы, чтобы собрать базу клиентов для email-рассылок</td>\n",
       "      <td>10</td>\n",
       "      <td>7</td>\n",
       "      <td>8</td>\n",
       "      <td>5</td>\n",
       "    </tr>\n",
       "    <tr>\n",
       "      <th>8</th>\n",
       "      <td>Запустить акцию, дающую скидку на товар в день рождения</td>\n",
       "      <td>1</td>\n",
       "      <td>9</td>\n",
       "      <td>9</td>\n",
       "      <td>5</td>\n",
       "    </tr>\n",
       "  </tbody>\n",
       "</table>\n",
       "</div>"
      ],
      "text/plain": [
       "                                                                                            Hypothesis  \\\n",
       "0   Добавить два новых канала привлечения трафика, что позволит привлекать на 30% больше пользователей   \n",
       "1                            Запустить собственную службу доставки, что сократит срок доставки заказов   \n",
       "2  Добавить блоки рекомендаций товаров на сайт интернет магазина, чтобы повысить конверсию и средни...   \n",
       "3  Изменить структура категорий, что увеличит конверсию, т.к. пользователи быстрее найдут нужный товар   \n",
       "4                     Изменить цвет фона главной страницы, чтобы увеличить вовлеченность пользователей   \n",
       "5             Добавить страницу отзывов клиентов о магазине, что позволит увеличить количество заказов   \n",
       "6  Показать на главной странице баннеры с актуальными акциями и распродажами, чтобы увеличить конве...   \n",
       "7     Добавить форму подписки на все основные страницы, чтобы собрать базу клиентов для email-рассылок   \n",
       "8                                              Запустить акцию, дающую скидку на товар в день рождения   \n",
       "\n",
       "   Reach  Impact  Confidence  Efforts  \n",
       "0      3      10           8        6  \n",
       "1      2       5           4       10  \n",
       "2      8       3           7        3  \n",
       "3      8       3           3        8  \n",
       "4      3       1           1        1  \n",
       "5      3       2           2        3  \n",
       "6      5       3           8        3  \n",
       "7     10       7           8        5  \n",
       "8      1       9           9        5  "
      ]
     },
     "execution_count": 3,
     "metadata": {},
     "output_type": "execute_result"
    }
   ],
   "source": [
    "# смотрим информацию о датафрейме\n",
    "\n",
    "data.info()\n",
    "data"
   ]
  },
  {
   "cell_type": "markdown",
   "metadata": {},
   "source": [
    "В файле представлено 9 гипотез по увеличению выручки интернет-магазина в следующей детализации:\n",
    "* Hypothesis — краткое описание гипотезы;\n",
    "* Reach — охват пользователей по 10-балльной шкале;\n",
    "* Impact — влияние на пользователей по 10-балльной шкале;\n",
    "* Confidence — уверенность в гипотезе по 10-балльной шкале;\n",
    "* Efforts — затраты ресурсов на проверку гипотезы по 10-балльной шкале."
   ]
  },
  {
   "cell_type": "markdown",
   "metadata": {},
   "source": [
    "### Предобработка данных"
   ]
  },
  {
   "cell_type": "markdown",
   "metadata": {},
   "source": [
    "Тип данных во всех столбцах корректный, однако для удобства работы с датафреймом исправим названия колонок - все буквы переведем в нижний регистр."
   ]
  },
  {
   "cell_type": "code",
   "execution_count": 4,
   "metadata": {},
   "outputs": [],
   "source": [
    "data.columns = data.columns.str.lower()"
   ]
  },
  {
   "cell_type": "markdown",
   "metadata": {},
   "source": [
    "### Приоритизация гипотез"
   ]
  },
  {
   "cell_type": "markdown",
   "metadata": {},
   "source": [
    "#### Фреймворк ICE"
   ]
  },
  {
   "cell_type": "code",
   "execution_count": 5,
   "metadata": {},
   "outputs": [
    {
     "data": {
      "text/html": [
       "<div>\n",
       "<style scoped>\n",
       "    .dataframe tbody tr th:only-of-type {\n",
       "        vertical-align: middle;\n",
       "    }\n",
       "\n",
       "    .dataframe tbody tr th {\n",
       "        vertical-align: top;\n",
       "    }\n",
       "\n",
       "    .dataframe thead th {\n",
       "        text-align: right;\n",
       "    }\n",
       "</style>\n",
       "<table border=\"1\" class=\"dataframe\">\n",
       "  <thead>\n",
       "    <tr style=\"text-align: right;\">\n",
       "      <th></th>\n",
       "      <th>hypothesis</th>\n",
       "      <th>ice</th>\n",
       "    </tr>\n",
       "  </thead>\n",
       "  <tbody>\n",
       "    <tr>\n",
       "      <th>8</th>\n",
       "      <td>Запустить акцию, дающую скидку на товар в день рождения</td>\n",
       "      <td>16.200000</td>\n",
       "    </tr>\n",
       "    <tr>\n",
       "      <th>0</th>\n",
       "      <td>Добавить два новых канала привлечения трафика, что позволит привлекать на 30% больше пользователей</td>\n",
       "      <td>13.333333</td>\n",
       "    </tr>\n",
       "    <tr>\n",
       "      <th>7</th>\n",
       "      <td>Добавить форму подписки на все основные страницы, чтобы собрать базу клиентов для email-рассылок</td>\n",
       "      <td>11.200000</td>\n",
       "    </tr>\n",
       "    <tr>\n",
       "      <th>6</th>\n",
       "      <td>Показать на главной странице баннеры с актуальными акциями и распродажами, чтобы увеличить конве...</td>\n",
       "      <td>8.000000</td>\n",
       "    </tr>\n",
       "    <tr>\n",
       "      <th>2</th>\n",
       "      <td>Добавить блоки рекомендаций товаров на сайт интернет магазина, чтобы повысить конверсию и средни...</td>\n",
       "      <td>7.000000</td>\n",
       "    </tr>\n",
       "    <tr>\n",
       "      <th>1</th>\n",
       "      <td>Запустить собственную службу доставки, что сократит срок доставки заказов</td>\n",
       "      <td>2.000000</td>\n",
       "    </tr>\n",
       "    <tr>\n",
       "      <th>5</th>\n",
       "      <td>Добавить страницу отзывов клиентов о магазине, что позволит увеличить количество заказов</td>\n",
       "      <td>1.333333</td>\n",
       "    </tr>\n",
       "    <tr>\n",
       "      <th>3</th>\n",
       "      <td>Изменить структура категорий, что увеличит конверсию, т.к. пользователи быстрее найдут нужный товар</td>\n",
       "      <td>1.125000</td>\n",
       "    </tr>\n",
       "    <tr>\n",
       "      <th>4</th>\n",
       "      <td>Изменить цвет фона главной страницы, чтобы увеличить вовлеченность пользователей</td>\n",
       "      <td>1.000000</td>\n",
       "    </tr>\n",
       "  </tbody>\n",
       "</table>\n",
       "</div>"
      ],
      "text/plain": [
       "                                                                                            hypothesis  \\\n",
       "8                                              Запустить акцию, дающую скидку на товар в день рождения   \n",
       "0   Добавить два новых канала привлечения трафика, что позволит привлекать на 30% больше пользователей   \n",
       "7     Добавить форму подписки на все основные страницы, чтобы собрать базу клиентов для email-рассылок   \n",
       "6  Показать на главной странице баннеры с актуальными акциями и распродажами, чтобы увеличить конве...   \n",
       "2  Добавить блоки рекомендаций товаров на сайт интернет магазина, чтобы повысить конверсию и средни...   \n",
       "1                            Запустить собственную службу доставки, что сократит срок доставки заказов   \n",
       "5             Добавить страницу отзывов клиентов о магазине, что позволит увеличить количество заказов   \n",
       "3  Изменить структура категорий, что увеличит конверсию, т.к. пользователи быстрее найдут нужный товар   \n",
       "4                     Изменить цвет фона главной страницы, чтобы увеличить вовлеченность пользователей   \n",
       "\n",
       "         ice  \n",
       "8  16.200000  \n",
       "0  13.333333  \n",
       "7  11.200000  \n",
       "6   8.000000  \n",
       "2   7.000000  \n",
       "1   2.000000  \n",
       "5   1.333333  \n",
       "3   1.125000  \n",
       "4   1.000000  "
      ]
     },
     "metadata": {},
     "output_type": "display_data"
    }
   ],
   "source": [
    "# считаем показатель ICE для гипотез\n",
    "data['ice'] = (data['impact'] * data['confidence']) / data['efforts']\n",
    "\n",
    "# приоритизируем гипотезы по ICE\n",
    "display(data[['hypothesis','ice']].sort_values(by='ice', ascending=False))"
   ]
  },
  {
   "cell_type": "markdown",
   "metadata": {},
   "source": [
    "**Наблюдения:** По фреймворку ICE наиболее перспективные гипотезы:  \n",
    "- 8 - предоставление скидки в день рождения,\n",
    "- 0 - запуск двух новых каналов привлечения трафика,\n",
    "- 7 - добавление формы подписки на email-рассылки на все основные страницы сайта,\n",
    "- 6 - добавление на главной странице баннеров с актуальными акциями и распродажами,\n",
    "- 2 - добавление блоков рекомендаций товаров."
   ]
  },
  {
   "cell_type": "markdown",
   "metadata": {},
   "source": [
    "#### Фреймворк RICE"
   ]
  },
  {
   "cell_type": "code",
   "execution_count": 6,
   "metadata": {},
   "outputs": [
    {
     "data": {
      "text/html": [
       "<div>\n",
       "<style scoped>\n",
       "    .dataframe tbody tr th:only-of-type {\n",
       "        vertical-align: middle;\n",
       "    }\n",
       "\n",
       "    .dataframe tbody tr th {\n",
       "        vertical-align: top;\n",
       "    }\n",
       "\n",
       "    .dataframe thead th {\n",
       "        text-align: right;\n",
       "    }\n",
       "</style>\n",
       "<table border=\"1\" class=\"dataframe\">\n",
       "  <thead>\n",
       "    <tr style=\"text-align: right;\">\n",
       "      <th></th>\n",
       "      <th>hypothesis</th>\n",
       "      <th>rice</th>\n",
       "    </tr>\n",
       "  </thead>\n",
       "  <tbody>\n",
       "    <tr>\n",
       "      <th>7</th>\n",
       "      <td>Добавить форму подписки на все основные страницы, чтобы собрать базу клиентов для email-рассылок</td>\n",
       "      <td>112.0</td>\n",
       "    </tr>\n",
       "    <tr>\n",
       "      <th>2</th>\n",
       "      <td>Добавить блоки рекомендаций товаров на сайт интернет магазина, чтобы повысить конверсию и средни...</td>\n",
       "      <td>56.0</td>\n",
       "    </tr>\n",
       "    <tr>\n",
       "      <th>0</th>\n",
       "      <td>Добавить два новых канала привлечения трафика, что позволит привлекать на 30% больше пользователей</td>\n",
       "      <td>40.0</td>\n",
       "    </tr>\n",
       "    <tr>\n",
       "      <th>6</th>\n",
       "      <td>Показать на главной странице баннеры с актуальными акциями и распродажами, чтобы увеличить конве...</td>\n",
       "      <td>40.0</td>\n",
       "    </tr>\n",
       "    <tr>\n",
       "      <th>8</th>\n",
       "      <td>Запустить акцию, дающую скидку на товар в день рождения</td>\n",
       "      <td>16.2</td>\n",
       "    </tr>\n",
       "    <tr>\n",
       "      <th>3</th>\n",
       "      <td>Изменить структура категорий, что увеличит конверсию, т.к. пользователи быстрее найдут нужный товар</td>\n",
       "      <td>9.0</td>\n",
       "    </tr>\n",
       "    <tr>\n",
       "      <th>1</th>\n",
       "      <td>Запустить собственную службу доставки, что сократит срок доставки заказов</td>\n",
       "      <td>4.0</td>\n",
       "    </tr>\n",
       "    <tr>\n",
       "      <th>5</th>\n",
       "      <td>Добавить страницу отзывов клиентов о магазине, что позволит увеличить количество заказов</td>\n",
       "      <td>4.0</td>\n",
       "    </tr>\n",
       "    <tr>\n",
       "      <th>4</th>\n",
       "      <td>Изменить цвет фона главной страницы, чтобы увеличить вовлеченность пользователей</td>\n",
       "      <td>3.0</td>\n",
       "    </tr>\n",
       "  </tbody>\n",
       "</table>\n",
       "</div>"
      ],
      "text/plain": [
       "                                                                                            hypothesis  \\\n",
       "7     Добавить форму подписки на все основные страницы, чтобы собрать базу клиентов для email-рассылок   \n",
       "2  Добавить блоки рекомендаций товаров на сайт интернет магазина, чтобы повысить конверсию и средни...   \n",
       "0   Добавить два новых канала привлечения трафика, что позволит привлекать на 30% больше пользователей   \n",
       "6  Показать на главной странице баннеры с актуальными акциями и распродажами, чтобы увеличить конве...   \n",
       "8                                              Запустить акцию, дающую скидку на товар в день рождения   \n",
       "3  Изменить структура категорий, что увеличит конверсию, т.к. пользователи быстрее найдут нужный товар   \n",
       "1                            Запустить собственную службу доставки, что сократит срок доставки заказов   \n",
       "5             Добавить страницу отзывов клиентов о магазине, что позволит увеличить количество заказов   \n",
       "4                     Изменить цвет фона главной страницы, чтобы увеличить вовлеченность пользователей   \n",
       "\n",
       "    rice  \n",
       "7  112.0  \n",
       "2   56.0  \n",
       "0   40.0  \n",
       "6   40.0  \n",
       "8   16.2  \n",
       "3    9.0  \n",
       "1    4.0  \n",
       "5    4.0  \n",
       "4    3.0  "
      ]
     },
     "metadata": {},
     "output_type": "display_data"
    }
   ],
   "source": [
    "# считаем показатель RICE для гипотез\n",
    "data['rice'] = (data['reach'] * data['impact'] * data['confidence']) / data['efforts']\n",
    "\n",
    "# приоритизируем гипотезы по RICE\n",
    "display(data[['hypothesis','rice']].sort_values(by='rice', ascending=False))"
   ]
  },
  {
   "cell_type": "markdown",
   "metadata": {},
   "source": [
    "**Наблюдения:** Порядок наиболее перспективных гипотез по фреймворку RICE выглядит иначе, потому что здесь учтен параметр Reach — охват пользователей.  \n",
    "На первом месте с большим отрывом теперь гипотеза 7 *(добавление формы подписки на email-рассылки на все основные страницы сайта)*, параметр Reach которой максимален (равен 10), а лидер по фреймворку ICE - гипотеза о скидке в день рождения - ближе к аутсайдерам, чем к лидерам.  \n",
    "\n",
    "Считаем, что добавление формы подписки на новостную рассылку на все страницы сайта позволит увеличить выручку интернет-магазина эффективнее, чем другие рассматриваемые методы. Далее оценим результаты тестирования этой гипотезы."
   ]
  },
  {
   "cell_type": "markdown",
   "metadata": {},
   "source": [
    "<a id='overview'></a>\n",
    "## Обзор данных по тесту"
   ]
  },
  {
   "cell_type": "markdown",
   "metadata": {},
   "source": [
    "По выбранной гипотезе был проведен A/B тест. Оценим полученные результаты, которые представлены в файлах /datasets/orders.csv и /datasets/visitors.csv."
   ]
  },
  {
   "cell_type": "code",
   "execution_count": 7,
   "metadata": {},
   "outputs": [],
   "source": [
    "# загружаем данные\n",
    "\n",
    "try:\n",
    "    orders = pd.read_csv('/datasets/orders.csv')\n",
    "    visitors = pd.read_csv('/datasets/visitors.csv')\n",
    "except:\n",
    "    orders = pd.read_csv(\n",
    "    '/Users/mrmrzpn/Desktop/Yandex Praktikum/2. Проекты/6. Принятие решений в бизнесе/orders.csv')\n",
    "    visitors = pd.read_csv(\n",
    "    '/Users/mrmrzpn/Desktop/Yandex Praktikum/2. Проекты/6. Принятие решений в бизнесе/visitors.csv')"
   ]
  },
  {
   "cell_type": "code",
   "execution_count": 8,
   "metadata": {},
   "outputs": [
    {
     "name": "stdout",
     "output_type": "stream",
     "text": [
      "Датасет orders \n",
      "\n",
      "<class 'pandas.core.frame.DataFrame'>\n",
      "RangeIndex: 1197 entries, 0 to 1196\n",
      "Data columns (total 5 columns):\n",
      " #   Column         Non-Null Count  Dtype \n",
      "---  ------         --------------  ----- \n",
      " 0   transactionId  1197 non-null   int64 \n",
      " 1   visitorId      1197 non-null   int64 \n",
      " 2   date           1197 non-null   object\n",
      " 3   revenue        1197 non-null   int64 \n",
      " 4   group          1197 non-null   object\n",
      "dtypes: int64(3), object(2)\n",
      "memory usage: 46.9+ KB\n"
     ]
    },
    {
     "data": {
      "text/html": [
       "<div>\n",
       "<style scoped>\n",
       "    .dataframe tbody tr th:only-of-type {\n",
       "        vertical-align: middle;\n",
       "    }\n",
       "\n",
       "    .dataframe tbody tr th {\n",
       "        vertical-align: top;\n",
       "    }\n",
       "\n",
       "    .dataframe thead th {\n",
       "        text-align: right;\n",
       "    }\n",
       "</style>\n",
       "<table border=\"1\" class=\"dataframe\">\n",
       "  <thead>\n",
       "    <tr style=\"text-align: right;\">\n",
       "      <th></th>\n",
       "      <th>transactionId</th>\n",
       "      <th>visitorId</th>\n",
       "      <th>date</th>\n",
       "      <th>revenue</th>\n",
       "      <th>group</th>\n",
       "    </tr>\n",
       "  </thead>\n",
       "  <tbody>\n",
       "    <tr>\n",
       "      <th>0</th>\n",
       "      <td>3667963787</td>\n",
       "      <td>3312258926</td>\n",
       "      <td>2019-08-15</td>\n",
       "      <td>1650</td>\n",
       "      <td>B</td>\n",
       "    </tr>\n",
       "    <tr>\n",
       "      <th>1</th>\n",
       "      <td>2804400009</td>\n",
       "      <td>3642806036</td>\n",
       "      <td>2019-08-15</td>\n",
       "      <td>730</td>\n",
       "      <td>B</td>\n",
       "    </tr>\n",
       "    <tr>\n",
       "      <th>2</th>\n",
       "      <td>2961555356</td>\n",
       "      <td>4069496402</td>\n",
       "      <td>2019-08-15</td>\n",
       "      <td>400</td>\n",
       "      <td>A</td>\n",
       "    </tr>\n",
       "    <tr>\n",
       "      <th>3</th>\n",
       "      <td>3797467345</td>\n",
       "      <td>1196621759</td>\n",
       "      <td>2019-08-15</td>\n",
       "      <td>9759</td>\n",
       "      <td>B</td>\n",
       "    </tr>\n",
       "    <tr>\n",
       "      <th>4</th>\n",
       "      <td>2282983706</td>\n",
       "      <td>2322279887</td>\n",
       "      <td>2019-08-15</td>\n",
       "      <td>2308</td>\n",
       "      <td>B</td>\n",
       "    </tr>\n",
       "  </tbody>\n",
       "</table>\n",
       "</div>"
      ],
      "text/plain": [
       "   transactionId   visitorId        date  revenue group\n",
       "0     3667963787  3312258926  2019-08-15     1650     B\n",
       "1     2804400009  3642806036  2019-08-15      730     B\n",
       "2     2961555356  4069496402  2019-08-15      400     A\n",
       "3     3797467345  1196621759  2019-08-15     9759     B\n",
       "4     2282983706  2322279887  2019-08-15     2308     B"
      ]
     },
     "metadata": {},
     "output_type": "display_data"
    },
    {
     "name": "stdout",
     "output_type": "stream",
     "text": [
      "----------------------------------------------------------------------------------------------------\n",
      "Датасет visitors \n",
      "\n",
      "<class 'pandas.core.frame.DataFrame'>\n",
      "RangeIndex: 62 entries, 0 to 61\n",
      "Data columns (total 3 columns):\n",
      " #   Column    Non-Null Count  Dtype \n",
      "---  ------    --------------  ----- \n",
      " 0   date      62 non-null     object\n",
      " 1   group     62 non-null     object\n",
      " 2   visitors  62 non-null     int64 \n",
      "dtypes: int64(1), object(2)\n",
      "memory usage: 1.6+ KB\n"
     ]
    },
    {
     "data": {
      "text/html": [
       "<div>\n",
       "<style scoped>\n",
       "    .dataframe tbody tr th:only-of-type {\n",
       "        vertical-align: middle;\n",
       "    }\n",
       "\n",
       "    .dataframe tbody tr th {\n",
       "        vertical-align: top;\n",
       "    }\n",
       "\n",
       "    .dataframe thead th {\n",
       "        text-align: right;\n",
       "    }\n",
       "</style>\n",
       "<table border=\"1\" class=\"dataframe\">\n",
       "  <thead>\n",
       "    <tr style=\"text-align: right;\">\n",
       "      <th></th>\n",
       "      <th>date</th>\n",
       "      <th>group</th>\n",
       "      <th>visitors</th>\n",
       "    </tr>\n",
       "  </thead>\n",
       "  <tbody>\n",
       "    <tr>\n",
       "      <th>0</th>\n",
       "      <td>2019-08-01</td>\n",
       "      <td>A</td>\n",
       "      <td>719</td>\n",
       "    </tr>\n",
       "    <tr>\n",
       "      <th>1</th>\n",
       "      <td>2019-08-02</td>\n",
       "      <td>A</td>\n",
       "      <td>619</td>\n",
       "    </tr>\n",
       "    <tr>\n",
       "      <th>2</th>\n",
       "      <td>2019-08-03</td>\n",
       "      <td>A</td>\n",
       "      <td>507</td>\n",
       "    </tr>\n",
       "    <tr>\n",
       "      <th>3</th>\n",
       "      <td>2019-08-04</td>\n",
       "      <td>A</td>\n",
       "      <td>717</td>\n",
       "    </tr>\n",
       "    <tr>\n",
       "      <th>4</th>\n",
       "      <td>2019-08-05</td>\n",
       "      <td>A</td>\n",
       "      <td>756</td>\n",
       "    </tr>\n",
       "  </tbody>\n",
       "</table>\n",
       "</div>"
      ],
      "text/plain": [
       "         date group  visitors\n",
       "0  2019-08-01     A       719\n",
       "1  2019-08-02     A       619\n",
       "2  2019-08-03     A       507\n",
       "3  2019-08-04     A       717\n",
       "4  2019-08-05     A       756"
      ]
     },
     "metadata": {},
     "output_type": "display_data"
    },
    {
     "name": "stdout",
     "output_type": "stream",
     "text": [
      "----------------------------------------------------------------------------------------------------\n"
     ]
    }
   ],
   "source": [
    "# смотрим информацию о датафреймах\n",
    "\n",
    "for i in [orders, visitors]:\n",
    "    name = [key for key in globals() if globals()[key] is i]\n",
    "    print('Датасет', name[0], '\\n')\n",
    "    i.info()\n",
    "    display(i.head())\n",
    "    print('--'*50)"
   ]
  },
  {
   "cell_type": "markdown",
   "metadata": {},
   "source": [
    "**Наблюдения:** Пропусков в данных нет, однако требуется предобработка: надо исправить названия столбцов в датафрейме orders (привести к нижнему регистру), изменить тип данных в столбцах с датами, проверить данные на наличие дубликатов."
   ]
  },
  {
   "cell_type": "markdown",
   "metadata": {},
   "source": [
    "<a id='data_processing'></a>\n",
    "## Предобработка данных"
   ]
  },
  {
   "cell_type": "markdown",
   "metadata": {},
   "source": [
    "### Исправление названий столбцов"
   ]
  },
  {
   "cell_type": "code",
   "execution_count": 9,
   "metadata": {},
   "outputs": [],
   "source": [
    "# приводим названия столбцов к нижнему регистру\n",
    "\n",
    "orders.columns = [column.replace('Id', '_id') for column in orders.columns]"
   ]
  },
  {
   "cell_type": "markdown",
   "metadata": {},
   "source": [
    "### Изменение типа данных"
   ]
  },
  {
   "cell_type": "code",
   "execution_count": 10,
   "metadata": {},
   "outputs": [],
   "source": [
    "# в столбцах с датами делаем тип данных - \"дата\"\n",
    "\n",
    "orders['date'] = pd.to_datetime(orders['date'])\n",
    "visitors['date'] = pd.to_datetime(visitors['date'])"
   ]
  },
  {
   "cell_type": "markdown",
   "metadata": {},
   "source": [
    "### Проверка на наличие дубликатов"
   ]
  },
  {
   "cell_type": "code",
   "execution_count": 11,
   "metadata": {},
   "outputs": [
    {
     "data": {
      "text/plain": [
       "0"
      ]
     },
     "execution_count": 11,
     "metadata": {},
     "output_type": "execute_result"
    }
   ],
   "source": [
    "orders.duplicated().sum()"
   ]
  },
  {
   "cell_type": "code",
   "execution_count": 12,
   "metadata": {},
   "outputs": [
    {
     "data": {
      "text/plain": [
       "0"
      ]
     },
     "execution_count": 12,
     "metadata": {},
     "output_type": "execute_result"
    }
   ],
   "source": [
    "visitors.duplicated().sum()"
   ]
  },
  {
   "cell_type": "markdown",
   "metadata": {},
   "source": [
    "Полных дубликатов нет. Проверим датафрейм orders на дублирование visitor_id: наличие одного клиента в обеих группах А и В:"
   ]
  },
  {
   "cell_type": "code",
   "execution_count": 13,
   "metadata": {
    "scrolled": true
   },
   "outputs": [
    {
     "data": {
      "text/plain": [
       "58"
      ]
     },
     "execution_count": 13,
     "metadata": {},
     "output_type": "execute_result"
    }
   ],
   "source": [
    "# посчитаем число задублированных клиентов, если таковые есть\n",
    "\n",
    "duplicated_visitors = orders.groupby('visitor_id').agg({'group':'nunique'}).query('group > 1')\n",
    "len(duplicated_visitors)"
   ]
  },
  {
   "cell_type": "markdown",
   "metadata": {},
   "source": [
    "Мы нашли 58 клиентов, которые в исследовании попали и в группу А, и в группу В. Посмотрим, какую долю от групп они составляют:"
   ]
  },
  {
   "cell_type": "code",
   "execution_count": 14,
   "metadata": {},
   "outputs": [
    {
     "name": "stdout",
     "output_type": "stream",
     "text": [
      "Численность покупателей группы А - 503\n",
      "Доля покупателей группы А, которые также попали в группу В, - 11.53%\n",
      "Численность посетителей группы А - 18736\n",
      "Конверсия посетителей группы А, включая тех, которые также попали в группу В, - 2.68%\n"
     ]
    }
   ],
   "source": [
    "# численность покупателей группы А\n",
    "print('Численность покупателей группы А -', orders.query('group == \"A\"')['visitor_id'].nunique())\n",
    "\n",
    "# доля задублированных покупателей\n",
    "print('Доля покупателей группы А, которые также попали в группу В, - {:.2%}'\n",
    "      .format(len(duplicated_visitors)/orders.query('group == \"A\"')['visitor_id'].nunique())\n",
    "     )\n",
    "\n",
    "# численность посетителей группы А\n",
    "print('Численность посетителей группы А -', visitors.query('group == \"A\"')['visitors'].sum())\n",
    "\n",
    "# конверсия посетителей группы А\n",
    "print('Конверсия посетителей группы А, включая тех, которые также попали в группу В, - {:.2%}'\n",
    "      .format(orders.query('group == \"A\"')['visitor_id'].nunique()\n",
    "              /visitors.query('group == \"A\"')['visitors'].sum())\n",
    "     )"
   ]
  },
  {
   "cell_type": "code",
   "execution_count": 15,
   "metadata": {},
   "outputs": [
    {
     "name": "stdout",
     "output_type": "stream",
     "text": [
      "Численность покупателей группы B - 586\n",
      "Доля покупателей группы B, которые также попали в группу A, - 9.90%\n",
      "Численность посетителей группы B - 18916\n",
      "Конверсия посетителей группы B, включая тех, которые также попали в группу A, - 3.10%\n"
     ]
    }
   ],
   "source": [
    "# численность покупателей группы B\n",
    "print('Численность покупателей группы B -', orders.query('group == \"B\"')['visitor_id'].nunique())\n",
    "\n",
    "# доля задублированных покупателей\n",
    "print('Доля покупателей группы B, которые также попали в группу A, - {:.2%}'\n",
    "      .format(len(duplicated_visitors)/orders.query('group == \"B\"')['visitor_id'].nunique())\n",
    "     )\n",
    "\n",
    "# численность посетителей группы B\n",
    "print('Численность посетителей группы B -', visitors.query('group == \"B\"')['visitors'].sum())\n",
    "\n",
    "# конверсия посетителей группы B\n",
    "print('Конверсия посетителей группы B, включая тех, которые также попали в группу A, - {:.2%}'\n",
    "      .format(orders.query('group == \"B\"')['visitor_id'].nunique()\n",
    "              /visitors.query('group == \"B\"')['visitors'].sum())\n",
    "     )"
   ]
  },
  {
   "cell_type": "markdown",
   "metadata": {},
   "source": [
    "**Наблюдения:** Доля покупателей, учтенных в обеих группах, существенная, что может исказить результаты А/В-теста. Однако их удаление также исказит результаты: в имеющихся данных по числу уникальных посетителей отсутствуют их id, и соответственно, невозможно исключить задублированных клиентов и в то же время корректно рассчитать конверсию (правильно было бы убрать таких клиентов и из числителя, и из знаменателя конверсии). Кроме того, доля задублированных покупателей в группе А выше, чем в группе В, и негативный эффект от исключения этих пользователей из анализа на группу А будет сильнее."
   ]
  },
  {
   "cell_type": "markdown",
   "metadata": {},
   "source": [
    "<a id='EDA'></a>\n",
    "## Исследовательский анализ данных"
   ]
  },
  {
   "cell_type": "markdown",
   "metadata": {},
   "source": [
    "### Период тестирования"
   ]
  },
  {
   "cell_type": "code",
   "execution_count": 16,
   "metadata": {},
   "outputs": [
    {
     "name": "stdout",
     "output_type": "stream",
     "text": [
      "Пользователи посещали сайт в период с 2019-08-01 по 2019-08-31\n",
      "Покупки совершались в период с 2019-08-01 по 2019-08-31\n"
     ]
    }
   ],
   "source": [
    "# посмотрим на период проведения тестирования\n",
    "\n",
    "print('Пользователи посещали сайт в период с {} по {}'\n",
    "     .format(visitors['date'].dt.date.min(), visitors['date'].dt.date.max())\n",
    "     )\n",
    "print('Покупки совершались в период с {} по {}'\n",
    "     .format(orders['date'].dt.date.min(), orders['date'].dt.date.max())\n",
    "     )"
   ]
  },
  {
   "cell_type": "markdown",
   "metadata": {},
   "source": [
    "**Наблюдения:** Тестирование началось 1 августа 2019 г. и длится 1 месяц."
   ]
  },
  {
   "cell_type": "markdown",
   "metadata": {},
   "source": [
    "### Кумулятивная выручка по группам"
   ]
  },
  {
   "cell_type": "markdown",
   "metadata": {},
   "source": [
    "Соберем в отдельный датафрейм кумулятивные данные по количеству заказов, числу уникальных покупателей, выручке и числу уникальных пользователей - в разрезе дат и групп теста:"
   ]
  },
  {
   "cell_type": "code",
   "execution_count": 17,
   "metadata": {},
   "outputs": [],
   "source": [
    "# для группировки данных по датам и группам теста создаем массив уникальных пар дат и групп теста\n",
    "dates_groups = orders[['date','group']].drop_duplicates().sort_values(by=['date','group'])\n",
    "\n",
    "# рассчитаем кумулятивные данные о покупках по дням и группам\n",
    "orders_cumulated = dates_groups.apply(\n",
    "    lambda x: (orders.query('(date <= @x.date) and group == @x.group')\n",
    "               .agg({'date':'max', 'group':'max', \n",
    "                     'transaction_id':'nunique', 'visitor_id':'nunique', 'revenue':'sum'})\n",
    "              ), \n",
    "    axis=1)\n",
    "\n",
    "# рассчитаем кумулятивные данные о посетителях по дням и группам\n",
    "visitors_cumulated = dates_groups.apply(\n",
    "    lambda x: (visitors.query('(date <= @x.date) and group == @x.group')\n",
    "               .agg({'date':'max', 'group':'max', 'visitors':'sum'})\n",
    "              ),\n",
    "    axis=1)\n",
    "\n",
    "# объединяем кумулятивные данные, меняем названия столбцов\n",
    "cumulated_data = orders_cumulated.merge(visitors_cumulated, on=['date', 'group'])\n",
    "cumulated_data.columns = ['date', 'group', 'orders', 'buyers', 'revenue', 'visitors']"
   ]
  },
  {
   "cell_type": "code",
   "execution_count": 18,
   "metadata": {},
   "outputs": [],
   "source": [
    "# выделим в отдельную переменную датафрейм с кумулятивными данными по выручке группы А\n",
    "cumulated_rev_A = cumulated_data.query('group == \"A\"')[['date','revenue', 'orders']]\n",
    "\n",
    "# выделим в отдельную переменную датафрейм с кумулятивными данными по выручке группы В\n",
    "cumulated_rev_B = cumulated_data.query('group == \"B\"')[['date','revenue', 'orders']]"
   ]
  },
  {
   "cell_type": "code",
   "execution_count": 19,
   "metadata": {},
   "outputs": [
    {
     "data": {
      "image/png": "[encoded data removed]",
      "text/plain": [
       "<Figure size 600x300 with 1 Axes>"
      ]
     },
     "metadata": {},
     "output_type": "display_data"
    }
   ],
   "source": [
    "# строим график выручки по группам\n",
    "\n",
    "plt.figure(figsize=(6,3))\n",
    "plt.plot(cumulated_rev_A['date'], cumulated_rev_A['revenue'], label='A', color='palevioletred', alpha=.7)\n",
    "plt.plot(cumulated_rev_B['date'], cumulated_rev_B['revenue'], label='B', color='darkseagreen')\n",
    "\n",
    "plt.title('Кумулятивная выручка по группам А/В теста', fontsize=10)\n",
    "plt.xlabel('Дата', fontsize=9)\n",
    "plt.ylabel('Выручка, руб.', fontsize=9)\n",
    "plt.xticks(rotation=45, fontsize=8)\n",
    "plt.yticks(fontsize=8)\n",
    "plt.ticklabel_format(axis='y', style='plain')\n",
    "plt.legend()\n",
    "plt.gca().spines[['top','right']].set_visible(False)\n",
    "plt.show()"
   ]
  },
  {
   "cell_type": "markdown",
   "metadata": {},
   "source": [
    "**Наблюдения:** В группе А кумулятивная выручка растет практически равномерно на протяжении всего месяца тестирования, а в группе В наблюдается резкий рост около 19 августа. Данный скачок может быть связан с появлением дорогих заказов либо увеличением числа заказов, но в целом похож на аномалию, что мы исследуем далее. По неочищенным от выбросов данным группа В показывает кумулятивную выручку выше, чем группа А."
   ]
  },
  {
   "cell_type": "markdown",
   "metadata": {},
   "source": [
    "### Кумулятивный средний чек по группам"
   ]
  },
  {
   "cell_type": "code",
   "execution_count": 20,
   "metadata": {},
   "outputs": [
    {
     "data": {
      "image/png": "[encoded data removed]",
      "text/plain": [
       "<Figure size 600x300 with 1 Axes>"
      ]
     },
     "metadata": {},
     "output_type": "display_data"
    }
   ],
   "source": [
    "# строим график среднего чека по группам\n",
    "# для этого делим кумулятивную выручку на кумулятивное число заказов\n",
    "\n",
    "plt.figure(figsize=(6,3))\n",
    "plt.plot(cumulated_rev_A['date'], cumulated_rev_A['revenue']/cumulated_rev_A['orders'], label='A',\n",
    "         color='palevioletred', alpha=.7)\n",
    "plt.plot(cumulated_rev_B['date'], cumulated_rev_B['revenue']/cumulated_rev_B['orders'], label='B',\n",
    "         color='darkseagreen')\n",
    "\n",
    "plt.title('Кумулятивный средний чек по группам А/В теста', fontsize=10)\n",
    "plt.xlabel('Дата', fontsize=9)\n",
    "plt.ylabel('Средний чек, руб.', fontsize=9)\n",
    "plt.xticks(rotation=45, fontsize=8)\n",
    "plt.yticks(fontsize=8)\n",
    "plt.legend()\n",
    "plt.gca().spines[['top','right']].set_visible(False)\n",
    "plt.show()"
   ]
  },
  {
   "cell_type": "markdown",
   "metadata": {},
   "source": [
    "**Наблюдения:** Кумулятивный средний чек группы А колебался в начале теста и немного стабилизировался к концу, при этом в последних числах августа снова начал расти. Кумулятивный средний чек группы В колебался до 19 августа и затем резко вырос. Данная аномалия является причиной резкого роста выручки, который мы наблюдали выше. Какие-либо выводы о результатах теста по кумулятивному средрему чеку делать некорректно, нужно исследовать выбросы."
   ]
  },
  {
   "cell_type": "markdown",
   "metadata": {},
   "source": [
    "### Относительное изменение кумулятивного среднего чека"
   ]
  },
  {
   "cell_type": "code",
   "execution_count": 21,
   "metadata": {},
   "outputs": [],
   "source": [
    "# объединим данные о кумулятивной выручке по обеим группам в одном датафрейме\n",
    "# так, чтобы данные по разным группам находились в разных столбцах (для удобства расчета относит. изменения) \n",
    "\n",
    "cumulated_revenue = cumulated_rev_A.merge(cumulated_rev_B, on='date', how='left', suffixes=['A', 'B'])"
   ]
  },
  {
   "cell_type": "code",
   "execution_count": 22,
   "metadata": {},
   "outputs": [
    {
     "data": {
      "image/png": "[encoded data removed]",
      "text/plain": [
       "<Figure size 600x300 with 1 Axes>"
      ]
     },
     "metadata": {},
     "output_type": "display_data"
    }
   ],
   "source": [
    "# cтроим график относительного изменения кумулятивного среднего чека\n",
    "\n",
    "plt.figure(figsize=(6,3))\n",
    "plt.plot(cumulated_revenue['date'],\n",
    "         ((cumulated_revenue['revenueB']/cumulated_revenue['ordersB']) /\n",
    "          (cumulated_revenue['revenueA']/cumulated_revenue['ordersA']) - 1) * 100,\n",
    "         color='yellowgreen'\n",
    "        )\n",
    "\n",
    "# добавляем ось X\n",
    "plt.axhline(y=0, color='black', linestyle='--', linewidth=.7)\n",
    "\n",
    "plt.title('Относительное изменение кумулятивного среднего чека \\nгруппы B к группе A', fontsize=10)\n",
    "plt.xlabel('Дата', fontsize=9)\n",
    "plt.ylabel('Относительное изменение, %', fontsize=9)\n",
    "plt.xticks(rotation=45, fontsize=8)\n",
    "plt.yticks(fontsize=8)\n",
    "plt.gca().spines[['top','right']].set_visible(False)\n",
    "plt.show()"
   ]
  },
  {
   "cell_type": "markdown",
   "metadata": {},
   "source": [
    "**Наблюдения:** Различие кумулятивного среднего чека между группами резко менялось несколько раз за период тестирования. Необходимо исследовать выбросы."
   ]
  },
  {
   "cell_type": "markdown",
   "metadata": {},
   "source": [
    "### Кумулятивная конверсия по группам"
   ]
  },
  {
   "cell_type": "code",
   "execution_count": 23,
   "metadata": {},
   "outputs": [],
   "source": [
    "# считаем кумулятивную конверсию\n",
    "cumulated_data['conversion'] = cumulated_data['buyers']/cumulated_data['visitors']\n",
    "\n",
    "# выделим в отдельную переменную датафрейм с кумулятивными данными по группе А\n",
    "cumulated_data_A = cumulated_data.query('group == \"A\"')\n",
    "\n",
    "# выделим в отдельную переменную датафрейм с кумулятивными данными по группе B\n",
    "cumulated_data_B = cumulated_data.query('group == \"B\"')"
   ]
  },
  {
   "cell_type": "code",
   "execution_count": 24,
   "metadata": {},
   "outputs": [
    {
     "data": {
      "image/png": "[encoded data removed]",
      "text/plain": [
       "<Figure size 600x300 with 1 Axes>"
      ]
     },
     "metadata": {},
     "output_type": "display_data"
    }
   ],
   "source": [
    "# строим график\n",
    "plt.figure(figsize=(6,3))\n",
    "plt.plot(cumulated_data_A['date'], cumulated_data_A['conversion'], label='A', color='palevioletred', alpha=.7)\n",
    "plt.plot(cumulated_data_B['date'], cumulated_data_B['conversion'], label='B', color='darkseagreen')\n",
    "\n",
    "plt.title('Кумулятивная конверсия по группам А/В-теста', fontsize=10)\n",
    "plt.xlabel('Дата', fontsize=9)\n",
    "plt.ylabel('Конверсия', fontsize=9)\n",
    "plt.xticks(rotation=45, fontsize=8)\n",
    "plt.yticks(fontsize=8)\n",
    "plt.ylim((0, 0.04))\n",
    "plt.legend()\n",
    "plt.gca().spines[['top','right']].set_visible(False)\n",
    "plt.show()"
   ]
  },
  {
   "cell_type": "markdown",
   "metadata": {},
   "source": [
    "**Наблюдения:** Конверсия обеих групп стабилизировалась к концу периода тестирования. Группа В лидирует по уровню конверсии на протяжении почти всего теста. Посмотрим далее, насколько постоянна разница конверсии группы В и группы А."
   ]
  },
  {
   "cell_type": "markdown",
   "metadata": {},
   "source": [
    "### Относительное изменение кумулятивной конверсии"
   ]
  },
  {
   "cell_type": "code",
   "execution_count": 25,
   "metadata": {},
   "outputs": [],
   "source": [
    "# объединим данные о кумулятивной конверсии по обеим группам в одном датафрейме\n",
    "# так, чтобы данные по разным группам находились в разных столбцах (для удобства расчета относит. изменения) \n",
    "\n",
    "cumulated_conversions = (cumulated_data_A[['date','conversion']]\n",
    "                         .merge(cumulated_data_B[['date','conversion']],\n",
    "                                on='date', how='left', suffixes=['A', 'B']))"
   ]
  },
  {
   "cell_type": "code",
   "execution_count": 26,
   "metadata": {},
   "outputs": [
    {
     "data": {
      "image/png": "[encoded data removed]",
      "text/plain": [
       "<Figure size 600x300 with 1 Axes>"
      ]
     },
     "metadata": {},
     "output_type": "display_data"
    }
   ],
   "source": [
    "# строим график\n",
    "plt.figure(figsize=(6,3))\n",
    "plt.plot(cumulated_conversions['date'],\n",
    "         (cumulated_conversions['conversionB'] / cumulated_conversions['conversionA'] - 1) * 100,\n",
    "         color='yellowgreen')\n",
    "\n",
    "# добавляем ось X\n",
    "plt.axhline(y=0, color='black', linestyle='--', linewidth=.7)\n",
    "# добавляем примерный итоговый уровень превышения конверсии группы В над конверсией группы А\n",
    "plt.axhline(y=10, color='grey', linestyle='--', linewidth=1)\n",
    "\n",
    "plt.title('Относительное изменение кумулятивной конверсии \\nгруппы B к группе A', fontsize=10)\n",
    "plt.xlabel('Дата', fontsize=9)\n",
    "plt.ylabel('Относительное изменение, %', fontsize=9)\n",
    "plt.xticks(rotation=45, fontsize=8)\n",
    "plt.yticks(fontsize=8)\n",
    "plt.ylim((-50, 50))\n",
    "plt.gca().spines[['top','right']].set_visible(False)\n",
    "plt.show()"
   ]
  },
  {
   "cell_type": "markdown",
   "metadata": {},
   "source": [
    "**Наблюдения:** Конверсия группы В была лучше конверсии группы А практически с начала теста. На последней неделе теста превышение конверсии группы В над конверсией группы А стабилизировалось на уровне около 10%, а в конце теста продолжило расти."
   ]
  },
  {
   "cell_type": "markdown",
   "metadata": {},
   "source": [
    "### Количество заказов по пользователям"
   ]
  },
  {
   "cell_type": "markdown",
   "metadata": {},
   "source": [
    "Чтобы выявить выбросы, проанализируем разброс числа заказов на одного пользователя."
   ]
  },
  {
   "cell_type": "code",
   "execution_count": 27,
   "metadata": {},
   "outputs": [],
   "source": [
    "# рассчитаем число заказов в разрезе пользователей\n",
    "\n",
    "orders_by_users = (orders\n",
    "                   .groupby('visitor_id', as_index=False)\n",
    "                   .agg({'transaction_id':'nunique'})\n",
    "                   .rename(columns=({'visitor_id':'user_id', 'transaction_id':'orders'}))\n",
    "                  )"
   ]
  },
  {
   "cell_type": "code",
   "execution_count": 28,
   "metadata": {},
   "outputs": [
    {
     "data": {
      "image/png": "[encoded data removed]",
      "text/plain": [
       "<Figure size 600x300 with 1 Axes>"
      ]
     },
     "metadata": {},
     "output_type": "display_data"
    }
   ],
   "source": [
    "# построим график разброса количества заказов на пользователя\n",
    "\n",
    "x_values = pd.Series(range(0, len(orders_by_users)))\n",
    "\n",
    "plt.figure(figsize=(6,3))\n",
    "plt.scatter(x_values, orders_by_users['orders'], color='darkseagreen', alpha=.5)\n",
    "\n",
    "plt.title('Количество заказов на каждого пользователя', fontsize=10)\n",
    "plt.xlabel('Порядковый номер пользователя', fontsize=9)\n",
    "plt.ylabel('Количество заказов', fontsize=9)\n",
    "plt.xticks(fontsize=8)\n",
    "plt.yticks(fontsize=8)\n",
    "plt.gca().spines[['top','right']].set_visible(False)\n",
    "plt.show()"
   ]
  },
  {
   "cell_type": "markdown",
   "metadata": {},
   "source": [
    "**Наблюдения:** Пользователи в основном осуществляют до 2 заказов. Пользователей с числом заказов от 3 ед. совсем мало, и скорее всего, их можно считать выбросами. Посмотрим далее на выборочные перцентили, чтобы выяснить, какое число заказов одного пользователя действительно можно назвать аномальным."
   ]
  },
  {
   "cell_type": "markdown",
   "metadata": {},
   "source": [
    "---"
   ]
  },
  {
   "cell_type": "code",
   "execution_count": 29,
   "metadata": {},
   "outputs": [
    {
     "data": {
      "text/plain": [
       "array([2., 4.])"
      ]
     },
     "execution_count": 29,
     "metadata": {},
     "output_type": "execute_result"
    }
   ],
   "source": [
    "# считаем 95-й и 99-й перцентили количества заказов на пользователя\n",
    "\n",
    "orders_percentile = np.percentile(orders_by_users['orders'], [95, 99])\n",
    "orders_percentile"
   ]
  },
  {
   "cell_type": "markdown",
   "metadata": {},
   "source": [
    "**Наблюдения:** Только 1% всех пользователей оформляли 4 и более заказа. Для 95% пользователей характерны 1-2 покупки. Таким образом, к аномальным пользователям будем относить тех, кто оформил более 2 заказов."
   ]
  },
  {
   "cell_type": "markdown",
   "metadata": {},
   "source": [
    "### Стоимость заказов"
   ]
  },
  {
   "cell_type": "markdown",
   "metadata": {},
   "source": [
    "Чтобы выявить выбросы, проанализируем также разброс стоимости заказов."
   ]
  },
  {
   "cell_type": "code",
   "execution_count": 30,
   "metadata": {},
   "outputs": [
    {
     "data": {
      "image/png": "[encoded data removed]",
      "text/plain": [
       "<Figure size 900x300 with 2 Axes>"
      ]
     },
     "metadata": {},
     "output_type": "display_data"
    }
   ],
   "source": [
    "# построим точечный график стоимости заказов\n",
    "\n",
    "x_values = pd.Series(range(0,len(orders['revenue'])))\n",
    "\n",
    "f, axes = plt.subplots(nrows=1, ncols=2, figsize=(9,3))\n",
    "axes[0].scatter(x_values, orders['revenue'], color='darkseagreen', alpha=.5)\n",
    "axes[1].scatter(x_values, orders['revenue'], color='darkseagreen', alpha=.5)\n",
    "            \n",
    "plt.suptitle('Разброс стоимости одного заказа', fontsize=10)\n",
    "axes[0].set_title('Полные данные', fontsize=9)\n",
    "axes[1].set_title('Масштабированный график', fontsize=9)\n",
    "axes[1].set_ylim(0, 100000)\n",
    "\n",
    "axes[0].set_xlabel('Порядковый номер заказа', fontsize=9)\n",
    "axes[0].set_ylabel('Стоимость заказа, руб.', fontsize=9)\n",
    "axes[1].set_xlabel('Порядковый номер заказа', fontsize=9)\n",
    "axes[1].set_ylabel('Стоимость заказа, руб.', fontsize=9)\n",
    "axes[0].tick_params(axis='both', labelsize=8)\n",
    "axes[1].tick_params(axis='both',labelsize=8)\n",
    "axes[0].ticklabel_format(axis='y', style='plain')\n",
    "axes[1].ticklabel_format(axis='y', style='plain')\n",
    "axes[0].spines[['top','right']].set_visible(False)\n",
    "axes[1].spines[['top','right']].set_visible(False)\n",
    "plt.tight_layout()\n",
    "plt.show()"
   ]
  },
  {
   "cell_type": "markdown",
   "metadata": {},
   "source": [
    "**Наблюдения:** На графике с полными данными сложно определить стандартную стоимость одного заказа из-за выбросов - слишком дорогих и нетипичных заказов стоимостью более 1,2 млн руб. и около 200 тыс. руб. Мы подготовили масштабированную версию данного графика, где отразили заказы стоимостью до 100 тыс. руб. (заказы на первом графике, кроме двух упомянутых выбросов, не превышают эту сумму).  \n",
    "Основная часть заказов приходится на стоимость до 20 тыс. руб. Граница аномальной стоимости, скорее всего, будет лежать между 20 и 40 тыс. руб. Чтобы точнее определить её, посмотрим на перцентили."
   ]
  },
  {
   "cell_type": "markdown",
   "metadata": {},
   "source": [
    "---"
   ]
  },
  {
   "cell_type": "code",
   "execution_count": 31,
   "metadata": {},
   "outputs": [
    {
     "data": {
      "text/plain": [
       "array([28000. , 58233.2])"
      ]
     },
     "execution_count": 31,
     "metadata": {},
     "output_type": "execute_result"
    }
   ],
   "source": [
    "# считаем 95-й и 99-й перцентили стоимости заказов\n",
    "\n",
    "revenue_percentile = np.percentile(orders['revenue'], [95, 99])\n",
    "revenue_percentile"
   ]
  },
  {
   "cell_type": "markdown",
   "metadata": {},
   "source": [
    "**Наблюдения:** Доля заказов, стоимость которых превышает 28 тыс. руб., составляет 5%; стоимость только 1% заказов превышает 58.2 тыс. руб. Аномальными заказами будем считать те, стоимость которых превысила 28 тыс. руб."
   ]
  },
  {
   "cell_type": "markdown",
   "metadata": {},
   "source": [
    "<a id='AB_test'></a>\n",
    "## Оценка результатов A/B тестирования"
   ]
  },
  {
   "cell_type": "markdown",
   "metadata": {},
   "source": [
    "### Различие в среднем числе заказов по «сырым» данным"
   ]
  },
  {
   "cell_type": "markdown",
   "metadata": {},
   "source": [
    "В случае, когда в данных есть существенные выбросы, т.е. данные не распределены нормально, для оценки различий между выборками применяются непараметрические критерии, в частности критерий Манна-Уитни. Его и будем использовать далее для анализа.  \n",
    "\n",
    "Для проверки критерием Манна-Уитни нужно собрать данные о числе заказов по всем пользователям каждой группы, т.е. учесть и тех пользователей, которые не оформляли заказы."
   ]
  },
  {
   "cell_type": "code",
   "execution_count": 32,
   "metadata": {},
   "outputs": [],
   "source": [
    "# рассчитаем число заказов для каждого покупателя групп А и В\n",
    "\n",
    "orders_by_buyer_A = (orders.query('group == \"A\"')\n",
    "                     .groupby('visitor_id', as_index=False)\n",
    "                     .agg({'transaction_id':'nunique'})\n",
    "                     .rename(columns=({'visitor_id':'user_id', 'transaction_id':'orders'}))\n",
    "                    )\n",
    "\n",
    "orders_by_buyer_B = (orders.query('group == \"B\"')\n",
    "                     .groupby('visitor_id', as_index=False)\n",
    "                     .agg({'transaction_id':'nunique'})\n",
    "                     .rename(columns=({'visitor_id':'user_id', 'transaction_id':'orders'}))\n",
    "                    )\n",
    "\n",
    "# в переменных sample_A и sample_B сохраним число заказов каждого пользователя без его id\n",
    "# у пользователей, которые ничего не заказывали, будут стоять нули\n",
    "\n",
    "sample_A = pd.concat([orders_by_buyer_A['orders'],\n",
    "                      pd.Series(0,\n",
    "                                index=np.arange(visitors.query('group == \"A\"')['visitors'].sum() -\n",
    "                                                len(orders_by_buyer_A)),\n",
    "                                name='orders')\n",
    "                     ], axis=0)\n",
    "\n",
    "sample_B = pd.concat([orders_by_buyer_B['orders'],\n",
    "                      pd.Series(0,\n",
    "                                index=np.arange(visitors.query('group == \"B\"')['visitors'].sum() -\n",
    "                                                len(orders_by_buyer_B)),\n",
    "                                name='orders')\n",
    "                     ], axis=0)"
   ]
  },
  {
   "cell_type": "markdown",
   "metadata": {},
   "source": [
    "Проверяем нулевую гипотезу Н0: различия в среднем числе заказов между группами теста нет (распределение количества заказов одного пользователя группы А и группы В одинаково).  \n",
    "Альтернативная гипотеза Н1: среднее число заказов между группами теста отличается (распределение количества заказов одного пользователя группы А и группы В различно).\n",
    "\n",
    "Уровень значимости возьмем равный 5%."
   ]
  },
  {
   "cell_type": "code",
   "execution_count": 33,
   "metadata": {},
   "outputs": [],
   "source": [
    "# объявим функцию для оценки результатов теста\n",
    "\n",
    "def test_results(group_1, group_2):\n",
    "    alpha = .5\n",
    "    p_value = st.mannwhitneyu(group_1, group_2)[1]\n",
    "    print('p-value = {0:.5f}'.format(p_value))\n",
    "    if p_value < alpha:\n",
    "        print('Отвергаем нулевую гипотезу: между группами есть значимая разница')\n",
    "    else:\n",
    "        print('Не получилось отвергнуть нулевую гипотезу') "
   ]
  },
  {
   "cell_type": "code",
   "execution_count": 34,
   "metadata": {},
   "outputs": [
    {
     "name": "stdout",
     "output_type": "stream",
     "text": [
      "Относительное отличие среднего числа заказов группы В от среднего числа заказов группы А = 13.81%\n",
      "p-value = 0.01679\n",
      "Отвергаем нулевую гипотезу: между группами есть значимая разница\n"
     ]
    }
   ],
   "source": [
    "# оценим статистическую значимость различий в среднем количестве заказов по «сырым» данным\n",
    "\n",
    "print('Относительное отличие среднего числа заказов группы В от среднего числа заказов группы А = {0:.2%}'\n",
    "      .format(sample_B.mean() / sample_A.mean() - 1)\n",
    "     )\n",
    "\n",
    "test_results(sample_A, sample_B)"
   ]
  },
  {
   "cell_type": "markdown",
   "metadata": {},
   "source": [
    "**Наблюдения:** P-value меньше уровня значимости 0.05. Следовательно, можно отвергнуть нулевую гипотезу о том, что различий в среднем числе заказов между группами нет. Среднее количество заказов пользователя группы В выше среднего количества заказов пользователя группы А на 13.81%, и разница статистически значима."
   ]
  },
  {
   "cell_type": "markdown",
   "metadata": {},
   "source": [
    "### Различие в среднем чеке по «сырым» данным"
   ]
  },
  {
   "cell_type": "markdown",
   "metadata": {},
   "source": [
    "Проверяем нулевую гипотезу Н0: различия в среднем чеке между группами нет (распределение стоимости одного заказа группы А и группы В одинаково).  \n",
    "Альтернативная гипотеза Н1: средний чек между группами отличается (распределение стоимости одного заказа группы А и группы В различно)."
   ]
  },
  {
   "cell_type": "code",
   "execution_count": 35,
   "metadata": {},
   "outputs": [
    {
     "name": "stdout",
     "output_type": "stream",
     "text": [
      "Относительное отличие среднего чека группы В от среднего чека группы А = 25.87%\n",
      "p-value = 0.72929\n",
      "Не получилось отвергнуть нулевую гипотезу\n"
     ]
    }
   ],
   "source": [
    "# оценим статистическую значимость различий в среднем чеке по «сырым» данным\n",
    "\n",
    "print('Относительное отличие среднего чека группы В от среднего чека группы А = {0:.2%}'\n",
    "      .format(orders.query('group == \"B\"')['revenue'].mean() /\n",
    "              orders.query('group == \"A\"')['revenue'].mean() - 1)\n",
    "     )\n",
    "\n",
    "test_results(orders.query('group == \"A\"')['revenue'], orders.query('group == \"B\"')['revenue'])"
   ]
  },
  {
   "cell_type": "markdown",
   "metadata": {},
   "source": [
    "**Наблюдения:** P-value значительно больше 0.05 - мы не можем отвергнуть нулевую гипотезу о том, что различий в среднем чеке между группами нет. Однако при этом средний чек группы В превышает средний чек группы А на 25.87%: причина в обнаруженных выбросах, и нужно повторить оценку различий, очистив данные от аномалий."
   ]
  },
  {
   "cell_type": "markdown",
   "metadata": {},
   "source": [
    "### Различие в среднем числе заказов по «очищенным» данным"
   ]
  },
  {
   "cell_type": "markdown",
   "metadata": {},
   "source": [
    "Для исключения выбросов составим список id покупателей, которые попадают под установленные выше критерии аномалий: 1) пользователи, оформившие более 2 заказов, 2) пользователи, оформившие заказы стоимостью более 28 тыс. руб."
   ]
  },
  {
   "cell_type": "code",
   "execution_count": 36,
   "metadata": {},
   "outputs": [
    {
     "name": "stdout",
     "output_type": "stream",
     "text": [
      "Число аномальных пользователей - 74\n"
     ]
    }
   ],
   "source": [
    "# выбираем пользователей, оформивших более 2 заказов\n",
    "many_orders = pd.concat([orders_by_buyer_A.query('orders > @orders_percentile[0]')['user_id'],\n",
    "                         orders_by_buyer_B.query('orders > @orders_percentile[0]')['user_id']\n",
    "                        ], axis=0)\n",
    "\n",
    "# выбираем пользователей, оформивших заказы стоимостью более 28 тыс. руб.\n",
    "expensive_orders = orders.query('revenue > @revenue_percentile[0]')['visitor_id']\n",
    "\n",
    "# объединяем в один реестр\n",
    "abnormal_users = (pd.concat([many_orders, expensive_orders], axis=0)\n",
    "                  .drop_duplicates()\n",
    "                  .sort_values()\n",
    "                 )\n",
    "\n",
    "print('Число аномальных пользователей -', len(abnormal_users))"
   ]
  },
  {
   "cell_type": "code",
   "execution_count": 37,
   "metadata": {},
   "outputs": [],
   "source": [
    "# очистим от аномальных пользователей выборки с количеством заказов на человека\n",
    "\n",
    "sample_A_filtered = pd.concat([orders_by_buyer_A.query('~user_id.isin(@abnormal_users)')['orders'],\n",
    "                               pd.Series(0,\n",
    "                                         index=np.arange(visitors.query('group == \"A\"')['visitors'].sum() -\n",
    "                                                         len(orders_by_buyer_A)),\n",
    "                                         name='orders')\n",
    "                              ], axis=0)\n",
    "\n",
    "sample_B_filtered = pd.concat([orders_by_buyer_B.query('~user_id.isin(@abnormal_users)')['orders'],\n",
    "                               pd.Series(0,\n",
    "                                         index=np.arange(visitors.query('group == \"B\"')['visitors'].sum() -\n",
    "                                                         len(orders_by_buyer_B)),\n",
    "                                         name='orders')\n",
    "                              ],axis=0)"
   ]
  },
  {
   "cell_type": "markdown",
   "metadata": {},
   "source": [
    "Проверяем нулевую гипотезу Н0: различия в среднем числе заказов между группами нет (распределение количества заказов одного пользователя группы А и группы В одинаково).  \n",
    "Альтернативная гипотеза Н1: среднее число заказов между группами отличается (распределение количества заказов одного пользователя группы А и группы В различно)."
   ]
  },
  {
   "cell_type": "code",
   "execution_count": 38,
   "metadata": {},
   "outputs": [
    {
     "name": "stdout",
     "output_type": "stream",
     "text": [
      "Относительное отличие среднего числа заказов группы В от среднего числа заказов группы А = 17.27%\n",
      "p-value = 0.01304\n",
      "Отвергаем нулевую гипотезу: между группами есть значимая разница\n"
     ]
    }
   ],
   "source": [
    "# оценим статистическую значимость различий в среднем количестве заказов по «очищенным» данным\n",
    "\n",
    "print('Относительное отличие среднего числа заказов группы В от среднего числа заказов группы А = {0:.2%}'\n",
    "      .format(sample_B_filtered.mean() / sample_A_filtered.mean() - 1)\n",
    "     )\n",
    "\n",
    "test_results(sample_A_filtered, sample_B_filtered)"
   ]
  },
  {
   "cell_type": "markdown",
   "metadata": {},
   "source": [
    "**Наблюдения:** P-value немного снизился: с 0.017 до 0.013. Мы снова отвергаем нулевую гипотезу и принимаем альтернативную - различие в среднем количестве заказов между группами статистически значимо.  \n",
    "Среднее число заказов одного пользователя в группе В выше, чем в группе А."
   ]
  },
  {
   "cell_type": "markdown",
   "metadata": {},
   "source": [
    "### Различие в среднем чеке по «очищенным» данным"
   ]
  },
  {
   "cell_type": "markdown",
   "metadata": {},
   "source": [
    "Проверяем нулевую гипотезу Н0: различия в среднем чеке между группами нет (распределение стоимости одного заказа группы А и группы В одинаково).  \n",
    "Альтернативная гипотеза Н1: средний чек между группами отличается (распределение стоимости одного заказа группы А и группы В различно)."
   ]
  },
  {
   "cell_type": "code",
   "execution_count": 39,
   "metadata": {},
   "outputs": [
    {
     "name": "stdout",
     "output_type": "stream",
     "text": [
      "Относительное отличие среднего чека группы В от среднего чека группы А = -1.96%\n",
      "p-value = 0.73848\n",
      "Не получилось отвергнуть нулевую гипотезу\n"
     ]
    }
   ],
   "source": [
    "# оценим статистическую значимость различий в среднем чеке по «очищенным» данным\n",
    "\n",
    "print('Относительное отличие среднего чека группы В от среднего чека группы А = {0:.2%}'\n",
    "      .format(orders.query('group == \"B\" and ~visitor_id.isin(@abnormal_users)')['revenue'].mean() /\n",
    "              orders.query('group == \"A\" and ~visitor_id.isin(@abnormal_users)')['revenue'].mean() - 1)\n",
    "     )\n",
    "\n",
    "test_results(orders.query('group == \"A\" and ~visitor_id.isin(@abnormal_users)')['revenue'],\n",
    "             orders.query('group == \"B\" and ~visitor_id.isin(@abnormal_users)')['revenue'])"
   ]
  },
  {
   "cell_type": "markdown",
   "metadata": {},
   "source": [
    "**Наблюдения:** P-value немного вырос (был 0.729), и мы подтверждаем наш предыдущий вывод: различия в среднем чеке между группами не являются статистически значимыми. После исключения выбросов наблюдавшаяся разница минимизировалась, и по очищенным данным средний чек группы В немного ниже среднего чека группы А (почти на 2%). В целом нельзя сказать, что в какой-то из групп пользователи тратят больше или меньше."
   ]
  },
  {
   "cell_type": "markdown",
   "metadata": {},
   "source": [
    "<a id='summary'></a>\n",
    "## Вывод"
   ]
  },
  {
   "cell_type": "markdown",
   "metadata": {},
   "source": [
    "Мы проранжировали гипотезы по увеличению выручки в соответствии с фреймворками ICE и RICE и выбрали наиболее перспективную - *добавление формы подписки на новостную рассылку на все страницы сайта*.\n",
    "\n",
    "Тест по выбранной гипотезе был запущен 1 августа 2019 г. и длился 1 месяц, после чего мы провели предварительный анализ результатов, чтобы принять решение об остановке или продолжении тестирования.\n",
    "\n",
    "По итогам анализа мы выявили, что:  \n",
    "- Кумулятивная выручка группы В выше группы А, однако при этом в группе В был аномально дорогой заказ стоимостью более 1,2 млн руб.;\n",
    "- Конверсия группы В была лучше конверсии группы А практически с начала теста. На последней неделе теста превышение конверсии группы В над конверсией группы А стабилизировалось на уровне около 10%, а в конце теста продолжило расти;\n",
    "- Пользователи группы В в среднем оформляли больше заказов, чем пользователи группы А, и это различие статистически значимо;\n",
    "- Нельзя сказать, что в какой-то из групп средний чек больше или меньше: статистически значимого различия нет ни по \"сырым\" данным, ни по данным после фильтрации аномалий.\n",
    "\n",
    "Рекомендуем остановить тест и признать его успешным: группа В лидирует по количеству заказов на пользователя и уровню конверсии."
   ]
  },
  {
   "cell_type": "code",
   "execution_count": null,
   "metadata": {},
   "outputs": [],
   "source": []
  }
 ],
 "metadata": {
  "ExecuteTimeLog": [
   {
    "duration": 1495,
    "start_time": "2022-10-16T13:05:47.296Z"
   },
   {
    "duration": 98,
    "start_time": "2022-10-16T13:05:48.793Z"
   },
   {
    "duration": 23,
    "start_time": "2022-10-16T13:05:48.893Z"
   },
   {
    "duration": 5,
    "start_time": "2022-10-16T13:05:48.918Z"
   },
   {
    "duration": 30,
    "start_time": "2022-10-16T13:05:48.924Z"
   },
   {
    "duration": 15,
    "start_time": "2022-10-16T13:05:48.957Z"
   },
   {
    "duration": 186,
    "start_time": "2022-10-16T13:05:48.974Z"
   },
   {
    "duration": 36,
    "start_time": "2022-10-16T13:05:49.162Z"
   },
   {
    "duration": 4,
    "start_time": "2022-10-16T13:05:49.200Z"
   },
   {
    "duration": 27,
    "start_time": "2022-10-16T13:05:49.208Z"
   },
   {
    "duration": 10,
    "start_time": "2022-10-16T13:05:49.237Z"
   },
   {
    "duration": 7,
    "start_time": "2022-10-16T13:05:49.250Z"
   },
   {
    "duration": 21,
    "start_time": "2022-10-16T13:05:49.289Z"
   },
   {
    "duration": 22,
    "start_time": "2022-10-16T13:05:49.312Z"
   },
   {
    "duration": 23,
    "start_time": "2022-10-16T13:05:49.336Z"
   },
   {
    "duration": 338,
    "start_time": "2022-10-16T13:05:49.390Z"
   },
   {
    "duration": 8,
    "start_time": "2022-10-16T13:05:49.729Z"
   },
   {
    "duration": 325,
    "start_time": "2022-10-16T13:05:49.738Z"
   },
   {
    "duration": 257,
    "start_time": "2022-10-16T13:05:50.065Z"
   },
   {
    "duration": 7,
    "start_time": "2022-10-16T13:05:50.324Z"
   },
   {
    "duration": 395,
    "start_time": "2022-10-16T13:05:50.334Z"
   },
   {
    "duration": 7,
    "start_time": "2022-10-16T13:05:50.732Z"
   },
   {
    "duration": 253,
    "start_time": "2022-10-16T13:05:50.743Z"
   },
   {
    "duration": 9,
    "start_time": "2022-10-16T13:05:50.998Z"
   },
   {
    "duration": 319,
    "start_time": "2022-10-16T13:05:51.008Z"
   },
   {
    "duration": 8,
    "start_time": "2022-10-16T13:05:51.330Z"
   },
   {
    "duration": 174,
    "start_time": "2022-10-16T13:05:51.340Z"
   },
   {
    "duration": 5,
    "start_time": "2022-10-16T13:05:51.519Z"
   },
   {
    "duration": 551,
    "start_time": "2022-10-16T13:05:51.526Z"
   },
   {
    "duration": 11,
    "start_time": "2022-10-16T13:05:52.080Z"
   },
   {
    "duration": 47,
    "start_time": "2022-10-16T13:05:52.092Z"
   },
   {
    "duration": 75,
    "start_time": "2022-10-16T13:05:52.141Z"
   },
   {
    "duration": 20,
    "start_time": "2022-10-16T13:05:52.219Z"
   },
   {
    "duration": 231,
    "start_time": "2022-10-16T13:05:52.241Z"
   },
   {
    "duration": 23,
    "start_time": "2022-10-16T13:05:52.474Z"
   },
   {
    "duration": 27,
    "start_time": "2022-10-16T13:05:52.498Z"
   },
   {
    "duration": 28,
    "start_time": "2022-10-16T13:05:52.527Z"
   },
   {
    "duration": 46,
    "start_time": "2022-10-17T12:32:46.608Z"
   },
   {
    "duration": 1235,
    "start_time": "2022-10-17T12:32:55.900Z"
   },
   {
    "duration": 82,
    "start_time": "2022-10-17T12:32:57.137Z"
   },
   {
    "duration": 19,
    "start_time": "2022-10-17T12:32:57.220Z"
   },
   {
    "duration": 3,
    "start_time": "2022-10-17T12:32:57.240Z"
   },
   {
    "duration": 13,
    "start_time": "2022-10-17T12:32:57.244Z"
   },
   {
    "duration": 10,
    "start_time": "2022-10-17T12:32:57.258Z"
   },
   {
    "duration": 174,
    "start_time": "2022-10-17T12:32:57.269Z"
   },
   {
    "duration": 26,
    "start_time": "2022-10-17T12:32:57.445Z"
   },
   {
    "duration": 3,
    "start_time": "2022-10-17T12:32:57.472Z"
   },
   {
    "duration": 13,
    "start_time": "2022-10-17T12:32:57.478Z"
   },
   {
    "duration": 7,
    "start_time": "2022-10-17T12:32:57.493Z"
   },
   {
    "duration": 6,
    "start_time": "2022-10-17T12:32:57.502Z"
   },
   {
    "duration": 18,
    "start_time": "2022-10-17T12:32:57.509Z"
   },
   {
    "duration": 16,
    "start_time": "2022-10-17T12:32:57.528Z"
   },
   {
    "duration": 39,
    "start_time": "2022-10-17T12:32:57.546Z"
   },
   {
    "duration": 298,
    "start_time": "2022-10-17T12:32:57.587Z"
   },
   {
    "duration": 7,
    "start_time": "2022-10-17T12:32:57.887Z"
   },
   {
    "duration": 275,
    "start_time": "2022-10-17T12:32:57.896Z"
   },
   {
    "duration": 172,
    "start_time": "2022-10-17T12:32:58.173Z"
   },
   {
    "duration": 6,
    "start_time": "2022-10-17T12:32:58.346Z"
   },
   {
    "duration": 361,
    "start_time": "2022-10-17T12:32:58.353Z"
   },
   {
    "duration": 5,
    "start_time": "2022-10-17T12:32:58.716Z"
   },
   {
    "duration": 196,
    "start_time": "2022-10-17T12:32:58.723Z"
   },
   {
    "duration": 7,
    "start_time": "2022-10-17T12:32:58.920Z"
   },
   {
    "duration": 251,
    "start_time": "2022-10-17T12:32:58.929Z"
   },
   {
    "duration": 7,
    "start_time": "2022-10-17T12:32:59.185Z"
   },
   {
    "duration": 145,
    "start_time": "2022-10-17T12:32:59.193Z"
   },
   {
    "duration": 6,
    "start_time": "2022-10-17T12:32:59.341Z"
   },
   {
    "duration": 416,
    "start_time": "2022-10-17T12:32:59.348Z"
   },
   {
    "duration": 4,
    "start_time": "2022-10-17T12:32:59.766Z"
   },
   {
    "duration": 25,
    "start_time": "2022-10-17T12:32:59.772Z"
   },
   {
    "duration": 44,
    "start_time": "2022-10-17T12:32:59.799Z"
   },
   {
    "duration": 12,
    "start_time": "2022-10-17T12:32:59.845Z"
   },
   {
    "duration": 117,
    "start_time": "2022-10-17T12:32:59.859Z"
   },
   {
    "duration": 16,
    "start_time": "2022-10-17T12:32:59.977Z"
   },
   {
    "duration": 66,
    "start_time": "2022-10-17T12:32:59.994Z"
   },
   {
    "duration": 18,
    "start_time": "2022-10-17T12:33:00.062Z"
   },
   {
    "duration": 14,
    "start_time": "2022-10-17T12:33:57.376Z"
   },
   {
    "duration": 183,
    "start_time": "2022-10-17T12:34:16.929Z"
   },
   {
    "duration": 275,
    "start_time": "2022-10-17T12:34:24.561Z"
   },
   {
    "duration": 1107,
    "start_time": "2022-10-17T12:34:29.072Z"
   },
   {
    "duration": 29,
    "start_time": "2022-10-17T12:34:30.181Z"
   },
   {
    "duration": 17,
    "start_time": "2022-10-17T12:34:30.212Z"
   },
   {
    "duration": 4,
    "start_time": "2022-10-17T12:34:30.231Z"
   },
   {
    "duration": 19,
    "start_time": "2022-10-17T12:34:30.237Z"
   },
   {
    "duration": 12,
    "start_time": "2022-10-17T12:34:30.258Z"
   },
   {
    "duration": 62,
    "start_time": "2022-10-17T12:34:30.272Z"
   },
   {
    "duration": 28,
    "start_time": "2022-10-17T12:34:30.336Z"
   },
   {
    "duration": 3,
    "start_time": "2022-10-17T12:34:30.365Z"
   },
   {
    "duration": 16,
    "start_time": "2022-10-17T12:34:30.370Z"
   },
   {
    "duration": 9,
    "start_time": "2022-10-17T12:34:30.388Z"
   },
   {
    "duration": 14,
    "start_time": "2022-10-17T12:34:30.398Z"
   },
   {
    "duration": 45,
    "start_time": "2022-10-17T12:34:30.413Z"
   },
   {
    "duration": 17,
    "start_time": "2022-10-17T12:34:30.461Z"
   },
   {
    "duration": 31,
    "start_time": "2022-10-17T12:34:30.479Z"
   },
   {
    "duration": 282,
    "start_time": "2022-10-17T12:34:30.512Z"
   },
   {
    "duration": 6,
    "start_time": "2022-10-17T12:34:30.795Z"
   },
   {
    "duration": 294,
    "start_time": "2022-10-17T12:34:30.803Z"
   },
   {
    "duration": 194,
    "start_time": "2022-10-17T12:34:31.099Z"
   },
   {
    "duration": 6,
    "start_time": "2022-10-17T12:34:31.295Z"
   },
   {
    "duration": 293,
    "start_time": "2022-10-17T12:34:31.302Z"
   },
   {
    "duration": 5,
    "start_time": "2022-10-17T12:34:31.597Z"
   },
   {
    "duration": 205,
    "start_time": "2022-10-17T12:34:31.604Z"
   },
   {
    "duration": 7,
    "start_time": "2022-10-17T12:34:31.811Z"
   },
   {
    "duration": 299,
    "start_time": "2022-10-17T12:34:31.820Z"
   },
   {
    "duration": 6,
    "start_time": "2022-10-17T12:34:32.120Z"
   },
   {
    "duration": 131,
    "start_time": "2022-10-17T12:34:32.127Z"
   },
   {
    "duration": 4,
    "start_time": "2022-10-17T12:34:32.260Z"
   },
   {
    "duration": 365,
    "start_time": "2022-10-17T12:34:32.266Z"
   },
   {
    "duration": 5,
    "start_time": "2022-10-17T12:34:32.632Z"
   },
   {
    "duration": 17,
    "start_time": "2022-10-17T12:34:32.638Z"
   },
   {
    "duration": 37,
    "start_time": "2022-10-17T12:34:32.657Z"
   },
   {
    "duration": 14,
    "start_time": "2022-10-17T12:34:32.696Z"
   },
   {
    "duration": 131,
    "start_time": "2022-10-17T12:34:32.712Z"
   },
   {
    "duration": 13,
    "start_time": "2022-10-17T12:34:32.845Z"
   },
   {
    "duration": 29,
    "start_time": "2022-10-17T12:34:32.859Z"
   },
   {
    "duration": 20,
    "start_time": "2022-10-17T12:34:32.890Z"
   }
  ],
  "kernelspec": {
   "display_name": "Python 3 (ipykernel)",
   "language": "python",
   "name": "python3"
  },
  "language_info": {
   "codemirror_mode": {
    "name": "ipython",
    "version": 3
   },
   "file_extension": ".py",
   "mimetype": "text/x-python",
   "name": "python",
   "nbconvert_exporter": "python",
   "pygments_lexer": "ipython3",
   "version": "3.9.13"
  },
  "toc": {
   "base_numbering": 1,
   "nav_menu": {},
   "number_sections": true,
   "sideBar": true,
   "skip_h1_title": true,
   "title_cell": "Содержание",
   "title_sidebar": "Содержание",
   "toc_cell": false,
   "toc_position": {
    "height": "calc(100% - 180px)",
    "left": "10px",
    "top": "150px",
    "width": "242px"
   },
   "toc_section_display": true,
   "toc_window_display": true
  }
 },
 "nbformat": 4,
 "nbformat_minor": 2
}
